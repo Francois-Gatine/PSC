{
 "cells": [
  {
   "cell_type": "code",
   "execution_count": 20,
   "metadata": {},
   "outputs": [],
   "source": [
    "import json\n",
    "import pandas as pd\n",
    "import os"
   ]
  },
  {
   "cell_type": "code",
   "execution_count": 21,
   "metadata": {},
   "outputs": [],
   "source": [
    "#set file name\n",
    "fileName = \"first1000linesPublications.json\""
   ]
  },
  {
   "cell_type": "code",
   "execution_count": 22,
   "metadata": {},
   "outputs": [],
   "source": [
    "#set maximum number of lines per file\n",
    "maxLineFile = 500"
   ]
  },
  {
   "cell_type": "code",
   "execution_count": 23,
   "metadata": {},
   "outputs": [],
   "source": [
    "#keeping track of line count. No more than maxLineFile per File\n",
    "currentLineFile = 0"
   ]
  },
  {
   "cell_type": "code",
   "execution_count": 24,
   "metadata": {},
   "outputs": [],
   "source": [
    "#counting curly brackets\n",
    "diffBrac = 0"
   ]
  },
  {
   "cell_type": "code",
   "execution_count": 25,
   "metadata": {},
   "outputs": [],
   "source": [
    "#file count\n",
    "fileCount = 0"
   ]
  },
  {
   "cell_type": "code",
   "execution_count": 26,
   "metadata": {},
   "outputs": [],
   "source": [
    "dict={}"
   ]
  },
  {
   "cell_type": "code",
   "execution_count": 27,
   "metadata": {},
   "outputs": [],
   "source": [
    "#opens the file\n",
    "with open(fileName) as fileObject:\n",
    "\n",
    "    #skips the first line which is \"[\"\n",
    "    fileObject.readline()\n",
    "\n",
    "    #text to be written in a file\n",
    "    LFile=[\"[\\n\"]\n",
    "    #text in current paper info\n",
    "    LPaper=[]\n",
    "\n",
    "    file = open(\"outputPaper\" + str(fileCount) + \".json\", \"w\")\n",
    "\n",
    "    #loads each line at a time\n",
    "    #doesn't load the file at once\n",
    "    for line in fileObject:\n",
    "        currentLineFile += 1\n",
    "        #detects brackets\n",
    "        for x in line:\n",
    "            if x == \"{\" :\n",
    "                diffBrac += 1\n",
    "            elif x == \"}\" :\n",
    "                diffBrac -= 1\n",
    "\n",
    "        LPaper.append(line)\n",
    "\n",
    "        #if we have passed one full paper\n",
    "        #we transfer LPaper to LFile\n",
    "        if diffBrac == 0 :\n",
    "            LFile = LFile + LPaper\n",
    "            LPaper = []\n",
    "\n",
    "\n",
    "        #if we reach the max number of lines\n",
    "        #write LFile in file, change file and carry on\n",
    "        if currentLineFile >= maxLineFile :\n",
    "\n",
    "            #remove the last chacarter (either \"'\" or \"]\")\n",
    "            #then write in the file and close it\n",
    "            if LFile != [] :\n",
    "                endStr = LFile[-1]\n",
    "                endStr = endStr[:-2]\n",
    "                LFile[-1] = endStr\n",
    "\n",
    "            file.writelines(LFile)\n",
    "            file.write(\"\\n]\")\n",
    "            file.close()\n",
    "\n",
    "            LFile = [\"[\\n\"]\n",
    "\n",
    "            currentLineFile = 0\n",
    "\n",
    "            fileCount+=1\n",
    "\n",
    "            #open new file\n",
    "            file = open(\"outputPaper\" + str(fileCount) + \".json\", \"w\")\n",
    "\n",
    "\n",
    "    #once we have read the file, we write what is left\n",
    "    #and close the file\n",
    "    if(len(LFile)!=1) : \n",
    "        file.writelines(LFile)\n",
    "        file.close()\n",
    "    else:\n",
    "        file.close()\n",
    "        os.remove(\"outputPaper\" + str(fileCount) + \".json\")\n",
    "        fileCount-=1\n",
    "    "
   ]
  },
  {
   "cell_type": "code",
   "execution_count": 28,
   "metadata": {},
   "outputs": [
    {
     "data": {
      "text/plain": [
       "1"
      ]
     },
     "execution_count": 28,
     "metadata": {},
     "output_type": "execute_result"
    }
   ],
   "source": [
    "fileCount"
   ]
  },
  {
   "cell_type": "code",
   "execution_count": 30,
   "metadata": {},
   "outputs": [],
   "source": [
    "for index in range(fileCount+1) : \n",
    "    data_P= pd.read_json(\"outputPaper\"+str(index)+\".json\",encoding='utf-8')\n",
    "    data_clean = data_P[[\"title\",\"id\"]].set_index(\"id\")\n",
    "    for i, row in data_clean.iterrows():\n",
    "                dict[i]=row[\"title\"]"
   ]
  },
  {
   "cell_type": "code",
   "execution_count": 32,
   "metadata": {},
   "outputs": [
    {
     "data": {
      "text/plain": [
       "{1574492: {'fr': \"ENGIN SOUS MARIN COMPORTANT DES SOURCES DE STOCKAGE D'ENERGIE A BASE DE BATTERIES LITHIUM-ION\",\n",
       "  'en': 'UNDERWATER VEHICLE COMPRISING POWER STORAGE SOURCES MADE FROM LITHIUM-ION BATTERIES',\n",
       "  'default': ''},\n",
       " 1574510: {'fr': \"PROCEDE DE FABRICATION D'UN COMPLEMENT ALIMENTAIRE A BASE D'HUILES ESSENTIELLES EN POUDRE\",\n",
       "  'en': 'METHOD FOR PRODUCING A FOOD SUPPLEMENT MADE OF ESSENTIAL OILS IN POWDER FORM',\n",
       "  'default': ''},\n",
       " 1574527: {'fr': \"PROCEDE ET SYSTEME DE GESTION INTELLIGENTE DE PLACES DE STATIONNEMENT, TERMINAL SERVEUR, TERMINAL UTILISATEUR ET PROGRAMMES D'ORDINATEUR CORRESPONDANTS\",\n",
       "  'en': 'SMART PARKING LOT MANAGEMENT SYSTEM',\n",
       "  'default': ''},\n",
       " 33017193: {'fr': '',\n",
       "  'en': 'Device e.g. fastener, for assembly and fixing of e.g. panel of coating, on upright post or cross-piece of framework connected to wall of building, has part carrying leg that is intended to come into contact with strip of adjacent panel',\n",
       "  'default': ''},\n",
       " 35542852: {'fr': \"CONCEPTION D'UN CHASSE ABEILLES A GLISSIERE\",\n",
       "  'en': '',\n",
       "  'default': ''}}"
      ]
     },
     "execution_count": 32,
     "metadata": {},
     "output_type": "execute_result"
    }
   ],
   "source": [
    "dict"
   ]
  },
  {
   "cell_type": "code",
   "execution_count": 33,
   "metadata": {},
   "outputs": [],
   "source": [
    "idTitle = json.dumps(dict, indent = 0) \n",
    "with open('idTitle.json', 'w') as f:\n",
    "    json.dump(idTitle, f)"
   ]
  },
  {
   "cell_type": "code",
   "execution_count": null,
   "metadata": {},
   "outputs": [],
   "source": []
  }
 ],
 "metadata": {
  "kernelspec": {
   "display_name": "Python 3",
   "language": "python",
   "name": "python3"
  },
  "language_info": {
   "codemirror_mode": {
    "name": "ipython",
    "version": 3
   },
   "file_extension": ".py",
   "mimetype": "text/x-python",
   "name": "python",
   "nbconvert_exporter": "python",
   "pygments_lexer": "ipython3",
   "version": "3.8.5"
  },
  "latex_envs": {
   "LaTeX_envs_menu_present": true,
   "autoclose": false,
   "autocomplete": false,
   "bibliofile": "biblio.bib",
   "cite_by": "apalike",
   "current_citInitial": 1,
   "eqLabelWithNumbers": true,
   "eqNumInitial": 1,
   "hotkeys": {
    "equation": "Ctrl-E",
    "itemize": "Ctrl-I"
   },
   "labels_anchors": false,
   "latex_user_defs": false,
   "report_style_numbering": false,
   "user_envs_cfg": false
  }
 },
 "nbformat": 4,
 "nbformat_minor": 4
}
