{
  "nbformat": 4,
  "nbformat_minor": 0,
  "metadata": {
    "colab": {
      "name": "Preprocess and cutting",
      "provenance": [],
      "collapsed_sections": []
    },
    "kernelspec": {
      "name": "python3",
      "display_name": "Python 3"
    },
    "language_info": {
      "name": "python"
    }
  },
  "cells": [
    {
      "cell_type": "markdown",
      "metadata": {
        "id": "tFeF938XaF2Z"
      },
      "source": [
        "Cuts the \"fileName\" file into smaller JSON files. Each file  "
      ]
    },
    {
      "cell_type": "code",
      "metadata": {
        "id": "2gLhQEoOYdjQ"
      },
      "source": [
        "#set file name\n",
        "fileName = \"scanr_first_10000.json\"\n",
        "\n",
        "#set maximum number of lines per file\n",
        "maxLineFile = 1000\n",
        "\n",
        "#keeping track of line count. No more than maxLineFile per File\n",
        "currentLineFile = 0\n",
        "\n",
        "#counting curly brackets\n",
        "diffBrac = 0\n",
        "\n",
        "#file count\n",
        "fileCount = 0\n",
        "\n",
        "\n",
        "\n",
        "\n",
        "#opens the file\n",
        "with open(fileName) as fileObject:\n",
        "\n",
        "    #skips the first line which is \"[\"\n",
        "    fileObject.readline()\n",
        "\n",
        "    #text to be written in a file\n",
        "    LFile=[\"[\\n\"]\n",
        "    #text in current author info\n",
        "    LAuthor=[]\n",
        "\n",
        "    file = open(\"output_file/file\" + str(fileCount) + \".json\", 'w')\n",
        "\n",
        "    #loads each line at a time\n",
        "    #doesn't load the file at once\n",
        "    for line in fileObject:\n",
        "\n",
        "        currentLineFile += 1\n",
        "\n",
        "\n",
        "\n",
        "        #detects brackets\n",
        "        for x in line:\n",
        "            if x == \"{\" :\n",
        "                diffBrac += 1\n",
        "            elif x == \"}\" :\n",
        "                diffBrac -= 1\n",
        "\n",
        "        LAuthor.append(line)\n",
        "\n",
        "        #if we have passed one full author\n",
        "        #we transfer LAuthor to LFile\n",
        "        if diffBrac == 0 :\n",
        "            LFile = LFile + LAuthor\n",
        "            LAuthor = []\n",
        "\n",
        "\n",
        "        #if we reach the max number of lines\n",
        "        #write LFile in file, change file and carry on\n",
        "        if currentLineFile >= maxLineFile :\n",
        "\n",
        "            #remove the last chacarter (either \"'\" or \"]\")\n",
        "            #then write in the file and close it\n",
        "            if LFile != [] :\n",
        "                endStr = LFile[-1]\n",
        "                endStr = endStr[:-2]\n",
        "                LFile[-1] = endStr\n",
        "\n",
        "            file.writelines(LFile)\n",
        "            file.write(\"\\n]\")\n",
        "            file.close()\n",
        "\n",
        "            LFile = [\"[\\n\"]\n",
        "\n",
        "            currentLineFile = 0\n",
        "\n",
        "            fileCount+=1\n",
        "\n",
        "            #open new file\n",
        "            file = open(\"output_file/file\" + str(fileCount) + \".json\", 'w')\n",
        "\n",
        "\n",
        "    #once we have read the file, we write what is left\n",
        "    #and close the file\n",
        "    file.writelines(LFile)\n",
        "    file.close()\n"
      ],
      "execution_count": null,
      "outputs": []
    }
  ]
}